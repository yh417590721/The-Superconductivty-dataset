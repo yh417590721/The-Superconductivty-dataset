{
 "cells": [
  {
   "cell_type": "code",
   "execution_count": 5,
   "metadata": {},
   "outputs": [
    {
     "name": "stdout",
     "output_type": "stream",
     "text": [
      "number of K : 1912\n",
      "number of centroid : 1912\n",
      "print the first centroid : [[0.0, 0.0, 0.0, 0.0, 0.0, 0.0, 0.0, 0.0, 0.0, 0.0, 0.0, 0.0, 0.0, 0.0, 0.0, 0.0, 0.0, 0.0, 0.0, 0.0, 0.0, 0.0, 0.0, 0.0, 0.0, 0.0, 15.0, 0.0, 0.0, 0.0, 0.0, 0.0, 0.0, 0.0, 0.0, 0.0, 0.0, 0.0, 0.0, 85.0, 0.0, 0.0, 0.0, 0.0, 0.0, 0.0, 0.0, 0.0, 0.0, 0.0, 0.0, 0.0, 0.0, 0.0, 0.0, 0.0, 0.0, 0.0, 0.0, 0.0, 0.0, 0.0, 0.0, 0.0, 0.0, 0.0, 0.0, 0.0, 0.0, 0.0, 0.0, 0.0, 0.0, 0.0, 0.0, 0.0, 0.0, 0.0, 0.0, 0.0, 0.0, 0.0, 0.0, 0.0, 0.0, 0.0, 3.3]]\n"
     ]
    }
   ],
   "source": [
    "#student_name:YonghengHou\n",
    "#student_number:5556661\n",
    "#login:yh790\n",
    "\n",
    "import pandas as pd \n",
    "import numpy as np \n",
    "import matplotlib.pyplot as plt\n",
    "import tensorflow as tf\n",
    "import math\n",
    "import random\n",
    "\n",
    "DATA_PATH = \"unique_m.csv\" \n",
    "\n",
    "# read the full text file and store records in a pandas dataframe\n",
    "pd_full_data_set = pd.read_csv(DATA_PATH)\n",
    " \n",
    "# copy the dataframe into a new dataframe so it will not mess up the original data\n",
    "pd_data_set = pd_full_data_set.copy() \n",
    " \n",
    "# calculate the number of instances, columns, attributes and actual class \n",
    "no_of_instances = len(pd_data_set.index) # number of rows\n",
    "no_of_columns = len(pd_data_set.columns) # number of columns\n",
    "no_of_attributes = no_of_columns - 1 #subtract class coulumn\n",
    "\n",
    " \n",
    "# store class values in a column and then create a list of unique\n",
    "# classes and store in a dataframe \n",
    "unique_class_list_df = pd_data_set.iloc[:,no_of_columns-1]\n",
    "\n",
    "unique_class_list_df = unique_class_list_df.drop_duplicates()\n",
    " \n",
    "#record the number of unique classes in the data set\n",
    "num_unique_classes = len(unique_class_list_df)\n",
    " \n",
    "# record the value for K, the number of clusters\n",
    "K = num_unique_classes\n",
    " \n",
    "# remove Class Column to create an unlabled data set\n",
    "class_column_colname = pd_data_set.columns[no_of_columns-1]\n",
    "pd_data_set = pd_data_set.drop(columns = class_column_colname) \n",
    "\n",
    "# convert dataframe into a numpy array\n",
    "np_data_set = pd_data_set.to_numpy(copy=True)\n",
    "\n",
    "#------------------------------------------------------\n",
    "#here is to select 20% of data randomly to determine the initial cluster mean points\n",
    "ratio=0.9\n",
    "    \n",
    "select_dataSet_number=int(ratio*len(np_data_set))\n",
    "        \n",
    "shuffled_indices=np.random.permutation(select_dataSet_number)\n",
    "    \n",
    "select_index=shuffled_indices[:select_dataSet_number]\n",
    "    \n",
    "select_data=np_data_set[select_index, :]\n",
    "\n",
    "#------------------------------------------------------\n",
    "#here is to find farthest point between the selected 20% dataset\n",
    "\"\"\"\n",
    "principles: \n",
    "1.we can view one instance as one point \n",
    "2.pass the 20% selected the data,then iterate each points of dataset.In each ietation,I calculate the max \n",
    "distance beween this point and other points by Euclidean distance ,then record the max point and row number\n",
    "int the each_line_max array.After all iterations finished,the I select the number of top K points to intiaize\n",
    "the centroids.\n",
    "\n",
    "\"\"\"\n",
    "def farthest_point_search(data, k):\n",
    "    each_line_max=[]\n",
    "    centroids=[]\n",
    "    for row in range(0, len(data)):\n",
    "        \n",
    "            this_instance = np_data_set[row]\n",
    "            \n",
    "            max_distance = float(0)\n",
    "\n",
    "            for row2 in range(0,len(data)):\n",
    "\n",
    "                # Calculate the Euclidean distance from this instance to the\n",
    "                distance = np.linalg.norm(data[row] - data[row2])\n",
    "\n",
    "                # If we have a centroid that is more further to this instance,                \n",
    "                if distance > max_distance:\n",
    "                    \n",
    "                    max_distance=distance                    \n",
    "                    # Update the minimum distance\n",
    "            #record the max for each line        \n",
    "            each_line_max.append(max_distance)\n",
    "    \n",
    "    #select top K max distance centroids\n",
    "    for i in range(0,k): \n",
    "        m = max(each_line_max)\n",
    "        #extract index of max distance in the array\n",
    "        a=[i for i, j in enumerate(each_line_max) if j == m]\n",
    "        row=a[0]\n",
    "        #add to my centroid array\n",
    "        centroids.append(select_data[row].tolist()) \n",
    "        del each_line_max[row]\n",
    "    \n",
    "    return centroids \n",
    "\n",
    "centroid=farthest_point_search(select_data,K)\n",
    "print(\"number of K :\",K)\n",
    "print(\"number of centroid :\",len(centroid))\n",
    "print(\"print the first centroid :\",centroid[:1])                                  \n",
    "#----------------------------------------------------\n"
   ]
  },
  {
   "cell_type": "code",
   "execution_count": null,
   "metadata": {},
   "outputs": [
    {
     "name": "stdout",
     "output_type": "stream",
     "text": [
      "centroids [[0.   0.   0.   ... 0.   0.   3.3 ]\n",
      " [0.   0.   0.   ... 0.   0.   3.04]\n",
      " [0.   0.   0.   ... 0.   0.   5.8 ]\n",
      " ...\n",
      " [ nan  nan  nan ...  nan  nan  nan]\n",
      " [ nan  nan  nan ...  nan  nan  nan]\n",
      " [ nan  nan  nan ...  nan  nan  nan]]\n"
     ]
    },
    {
     "data": {
      "image/png": "[encoded data removed]",
      "text/plain": [
       "<Figure size 432x288 with 1 Axes>"
      ]
     },
     "metadata": {
      "needs_background": "light"
     },
     "output_type": "display_data"
    },
    {
     "name": "stdout",
     "output_type": "stream",
     "text": [
      "centroids [[0.   0.   0.   ... 0.   0.   3.3 ]\n",
      " [0.   0.   0.   ... 0.   0.   3.04]\n",
      " [0.   0.   0.   ... 0.   0.   5.8 ]\n",
      " ...\n",
      " [ nan  nan  nan ...  nan  nan  nan]\n",
      " [ nan  nan  nan ...  nan  nan  nan]\n",
      " [ nan  nan  nan ...  nan  nan  nan]]\n"
     ]
    },
    {
     "data": {
      "image/png": "[encoded data removed]",
      "text/plain": [
       "<Figure size 432x288 with 1 Axes>"
      ]
     },
     "metadata": {
      "needs_background": "light"
     },
     "output_type": "display_data"
    },
    {
     "name": "stdout",
     "output_type": "stream",
     "text": [
      "centroids [[0.   0.   0.   ... 0.   0.   3.3 ]\n",
      " [0.   0.   0.   ... 0.   0.   3.04]\n",
      " [0.   0.   0.   ... 0.   0.   5.8 ]\n",
      " ...\n",
      " [ nan  nan  nan ...  nan  nan  nan]\n",
      " [ nan  nan  nan ...  nan  nan  nan]\n",
      " [ nan  nan  nan ...  nan  nan  nan]]\n"
     ]
    },
    {
     "data": {
      "image/png": "[encoded data removed]",
      "text/plain": [
       "<Figure size 432x288 with 1 Axes>"
      ]
     },
     "metadata": {
      "needs_background": "light"
     },
     "output_type": "display_data"
    },
    {
     "name": "stdout",
     "output_type": "stream",
     "text": [
      "centroids [[0.   0.   0.   ... 0.   0.   3.3 ]\n",
      " [0.   0.   0.   ... 0.   0.   3.04]\n",
      " [0.   0.   0.   ... 0.   0.   5.8 ]\n",
      " ...\n",
      " [ nan  nan  nan ...  nan  nan  nan]\n",
      " [ nan  nan  nan ...  nan  nan  nan]\n",
      " [ nan  nan  nan ...  nan  nan  nan]]\n"
     ]
    },
    {
     "data": {
      "image/png": "[encoded data removed]",
      "text/plain": [
       "<Figure size 432x288 with 1 Axes>"
      ]
     },
     "metadata": {
      "needs_background": "light"
     },
     "output_type": "display_data"
    },
    {
     "name": "stdout",
     "output_type": "stream",
     "text": [
      "centroids [[0.   0.   0.   ... 0.   0.   3.3 ]\n",
      " [0.   0.   0.   ... 0.   0.   3.04]\n",
      " [0.   0.   0.   ... 0.   0.   5.8 ]\n",
      " ...\n",
      " [ nan  nan  nan ...  nan  nan  nan]\n",
      " [ nan  nan  nan ...  nan  nan  nan]\n",
      " [ nan  nan  nan ...  nan  nan  nan]]\n"
     ]
    },
    {
     "data": {
      "image/png": "[encoded data removed]",
      "text/plain": [
       "<Figure size 432x288 with 1 Axes>"
      ]
     },
     "metadata": {
      "needs_background": "light"
     },
     "output_type": "display_data"
    },
    {
     "name": "stdout",
     "output_type": "stream",
     "text": [
      "centroids [[0.   0.   0.   ... 0.   0.   3.3 ]\n",
      " [0.   0.   0.   ... 0.   0.   3.04]\n",
      " [0.   0.   0.   ... 0.   0.   5.8 ]\n",
      " ...\n",
      " [ nan  nan  nan ...  nan  nan  nan]\n",
      " [ nan  nan  nan ...  nan  nan  nan]\n",
      " [ nan  nan  nan ...  nan  nan  nan]]\n"
     ]
    },
    {
     "data": {
      "image/png": "[encoded data removed]",
      "text/plain": [
       "<Figure size 432x288 with 1 Axes>"
      ]
     },
     "metadata": {
      "needs_background": "light"
     },
     "output_type": "display_data"
    },
    {
     "name": "stdout",
     "output_type": "stream",
     "text": [
      "centroids [[0.   0.   0.   ... 0.   0.   3.3 ]\n",
      " [0.   0.   0.   ... 0.   0.   3.04]\n",
      " [0.   0.   0.   ... 0.   0.   5.8 ]\n",
      " ...\n",
      " [ nan  nan  nan ...  nan  nan  nan]\n",
      " [ nan  nan  nan ...  nan  nan  nan]\n",
      " [ nan  nan  nan ...  nan  nan  nan]]\n"
     ]
    },
    {
     "data": {
      "image/png": "[encoded data removed]",
      "text/plain": [
       "<Figure size 432x288 with 1 Axes>"
      ]
     },
     "metadata": {
      "needs_background": "light"
     },
     "output_type": "display_data"
    },
    {
     "name": "stdout",
     "output_type": "stream",
     "text": [
      "centroids [[0.   0.   0.   ... 0.   0.   3.3 ]\n",
      " [0.   0.   0.   ... 0.   0.   3.04]\n",
      " [0.   0.   0.   ... 0.   0.   5.8 ]\n",
      " ...\n",
      " [ nan  nan  nan ...  nan  nan  nan]\n",
      " [ nan  nan  nan ...  nan  nan  nan]\n",
      " [ nan  nan  nan ...  nan  nan  nan]]\n"
     ]
    },
    {
     "data": {
      "image/png": "[encoded data removed]",
      "text/plain": [
       "<Figure size 432x288 with 1 Axes>"
      ]
     },
     "metadata": {
      "needs_background": "light"
     },
     "output_type": "display_data"
    },
    {
     "name": "stdout",
     "output_type": "stream",
     "text": [
      "centroids [[0.   0.   0.   ... 0.   0.   3.3 ]\n",
      " [0.   0.   0.   ... 0.   0.   3.04]\n",
      " [0.   0.   0.   ... 0.   0.   5.8 ]\n",
      " ...\n",
      " [ nan  nan  nan ...  nan  nan  nan]\n",
      " [ nan  nan  nan ...  nan  nan  nan]\n",
      " [ nan  nan  nan ...  nan  nan  nan]]\n"
     ]
    },
    {
     "data": {
      "image/png": "[encoded data removed]",
      "text/plain": [
       "<Figure size 432x288 with 1 Axes>"
      ]
     },
     "metadata": {
      "needs_background": "light"
     },
     "output_type": "display_data"
    },
    {
     "name": "stdout",
     "output_type": "stream",
     "text": [
      "centroids [[0.   0.   0.   ... 0.   0.   3.3 ]\n",
      " [0.   0.   0.   ... 0.   0.   3.04]\n",
      " [0.   0.   0.   ... 0.   0.   5.8 ]\n",
      " ...\n",
      " [ nan  nan  nan ...  nan  nan  nan]\n",
      " [ nan  nan  nan ...  nan  nan  nan]\n",
      " [ nan  nan  nan ...  nan  nan  nan]]\n"
     ]
    },
    {
     "data": {
      "image/png": "[encoded data removed]",
      "text/plain": [
       "<Figure size 432x288 with 1 Axes>"
      ]
     },
     "metadata": {
      "needs_background": "light"
     },
     "output_type": "display_data"
    }
   ],
   "source": [
    "points_n = no_of_instances\n",
    "clusters_n = K\n",
    "iteration_n = 100\n",
    "#------------------start tensorflow-------------------------\n",
    "\"\"\"\n",
    "\n",
    "k-mean basicl principle:\n",
    " \n",
    "Step1:\n",
    "Calculate the Euclidean distance of each instance in the data set\n",
    "from each of the centroids\n",
    "Find the centroid with the minimum distance and assign the instance o that centroid.\n",
    "Record that centroid in the cluster assignments array.\n",
    "\n",
    "Step2:\n",
    "Calculate the centroids of the clusters by computing the average of the attribute values of the instances in each cluster\n",
    "Store the new centroids\n",
    "update the old centroids\n",
    "\n",
    "By iteratation of step1 and step2 to update the all cluster centroids until the centroids array is stable\n",
    "\n",
    "\n",
    "\"\"\"\n",
    "#declaree constant points,pass all dataset into,and set type:tf.float64\n",
    "points = tf.constant(np_data_set,dtype=tf.float64)\n",
    "#declaree variable centroids,pass all intialized centroids into,and set type:tf.float64\n",
    "centroids = tf.Variable(centroid,dtype=tf.float64)\n",
    "\n",
    "iterations=0\n",
    "#set the maxiumn of iteration is 10 times\n",
    "max_iterations = 10\n",
    "while iterations < max_iterations:\n",
    "    \n",
    "    #Step1:\n",
    "    #add one dimesion to calculate by distance\n",
    "    points_expanded = tf.expand_dims(points, 0)\n",
    "    #add one dimesion to calculate by distance\n",
    "    centroids_expanded = tf.expand_dims(centroids, 1)\n",
    "    \n",
    "    # calculate the Euclidean distance from this instance to the centroid\n",
    "    distances = tf.reduce_sum(tf.square(tf.subtract(points_expanded, centroids_expanded)), 2)\n",
    "\n",
    "    #store instance to each cluster centroids,minmumn distance ,here is 0\n",
    "    assignments = tf.argmin(distances, 0)\n",
    "\n",
    "    #Step2:\n",
    "    #by iterate each clusters ,to re-calcucate the centroid of the cluster\n",
    "    means = []\n",
    "    for c in range(clusters_n):\n",
    "        means.append(tf.reduce_mean(\n",
    "          tf.gather(points, \n",
    "                    tf.reshape(\n",
    "                      tf.where(\n",
    "                        tf.equal(assignments, c)\n",
    "                      ),[1,-1])\n",
    "                   ),reduction_indices=[1]))\n",
    "    \n",
    "    #record new centroids\n",
    "    new_centroids = tf.concat(means, 0)\n",
    "    #update old centroids\n",
    "    update_centroids = tf.assign(centroids, new_centroids)\n",
    "    iterations=iterations+1\n",
    "    \n",
    "    #run tensorflow\n",
    "    \n",
    "    init = tf.global_variables_initializer()\n",
    "    with tf.Session() as sess:\n",
    "      sess.run(init)\n",
    "      for step in range(iteration_n):\n",
    "        [_, centroid_values, points_values, assignment_values] = sess.run([update_centroids, centroids, points, assignments])\n",
    "\n",
    "      print(\"centroids\", centroid_values)\n",
    "    plt.scatter(points_values[:, 0], points_values[:, 1], c=assignment_values, s=50, alpha=0.5)\n",
    "    plt.plot(centroid_values[:, 0], centroid_values[:, 1], 'kx', markersize=15)\n",
    "    plt.show()\n",
    "\n",
    "#----------------calculate silhouette coefficient ---------\n",
    "\"\"\"\n",
    "silhouette coefficient principle:\n",
    "\n",
    "Silhouette coefficient is between 1 and -1. -1 means bad clustering, 1 means great clustering.\n",
    " \n",
    "1. For each instance calculate the average distance to all other instances in that cluster. \n",
    "This is recorded as a.\n",
    "2. (Find the average distance to all the instances in the nearest neighbor cluster). \n",
    "For each instance and any cluster that does not contain the \n",
    "instance calculate the average distance to all of the points in that other cluster. \n",
    "Then return the minimum such value over all of the clusters. This is recorded as b.\n",
    "3. For each instance calculate the Silhouette Coefficient s,where s = (b-a)/max(a,b)\n",
    "\n",
    "\"\"\"\n",
    "#I record each distance between one point to other all points in the distance_each,store order is row order\n",
    "distance_each =[]\n",
    "#I record each distance_each in the distance_row,in order to calculate the sum next,then mean\n",
    "distance_row=[]\n",
    "for row in range(no_of_instances):\n",
    "    for row2 in range(no_of_instances):\n",
    "        distance_each.append(tf.reduce_sum(tf.square(tf.subtract(points[row], points[row2]))))\n",
    "    distance_row.append(distance_each)\n",
    "\n",
    "print(\"distance_row \",distance_row)    \n",
    "\n",
    "#calculate the sum of all  distacnes\n",
    "running_sum = []\n",
    "for row in range(no_of_instances):\n",
    "    running_sum.append(tf.reduce_sum(\n",
    "      tf.gather(distance_row, \n",
    "                tf.reshape(\n",
    "                  tf.where(\n",
    "                    tf.equal(assignments[row], distance_row[row])\n",
    "                  ),[1,-1])\n",
    "               ),reduction_indices=[1]))\n",
    "\n",
    "#calculate the mean as a\n",
    "a=tf.reduce_mean(running_sum) \n",
    "\n",
    "#part of calculating b is not finshed yet ....\n",
    "\n",
    "\n",
    "\n",
    "    \n",
    "\n",
    "#-------------end--------------------------------------------\n",
    "\"\"\"\n",
    "for row in range(0, no_of_instances):\n",
    "    this_instance=points[row]\n",
    "    this_cluster = assignments[row]  \n",
    "    a=tf.Variable(0.0,dtype=tf.float64)\n",
    "    running_sum=tf.Variable(0.0,dtype=tf.float64)\n",
    "    counter=tf.Variable(0.0,dtype=tf.float64)\n",
    "    distance=tf.Variable(0.0,dtype=tf.float64)\n",
    "    #running_sum=tf.Variable(0.0)\n",
    "    one = tf.constant(1,dtype=tf.float64)\n",
    "    print(a)\n",
    "    for row_2 in range(0, no_of_instances):\n",
    "        counter=tf.cond(tf.equal(this_cluster, assignments[row_2]), lambda: tf.add(counter, one), lambda: counter)\n",
    "        distance=tf.cond(tf.equal(this_cluster, assignments[row_2]), lambda: tf.norm(tf.subtract(this_instance,points[row_2]),ord='euclidean'), lambda: distance)\n",
    "        running_sum=tf.cond(tf.equal(this_cluster, assignments[row_2]), lambda: tf.add(running_sum, distance), lambda: running_sum)\n",
    "                 \n",
    "    a=tf.cond(tf.greater(counter, 0), lambda: tf.multiply(running_sum, counter), lambda: a)    \n",
    "\"\"\"\n",
    "                                                 \n"
   ]
  },
  {
   "cell_type": "code",
   "execution_count": null,
   "metadata": {},
   "outputs": [],
   "source": []
  },
  {
   "cell_type": "code",
   "execution_count": null,
   "metadata": {
    "scrolled": true
   },
   "outputs": [],
   "source": []
  },
  {
   "cell_type": "code",
   "execution_count": null,
   "metadata": {},
   "outputs": [],
   "source": []
  }
 ],
 "metadata": {
  "kernelspec": {
   "display_name": "Python 3",
   "language": "python",
   "name": "python3"
  },
  "language_info": {
   "codemirror_mode": {
    "name": "ipython",
    "version": 3
   },
   "file_extension": ".py",
   "mimetype": "text/x-python",
   "name": "python",
   "nbconvert_exporter": "python",
   "pygments_lexer": "ipython3",
   "version": "3.7.3"
  }
 },
 "nbformat": 4,
 "nbformat_minor": 4
}
